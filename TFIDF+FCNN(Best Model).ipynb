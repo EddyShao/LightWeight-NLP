{
 "cells": [
  {
   "cell_type": "code",
   "execution_count": 1,
   "id": "f139110b",
   "metadata": {},
   "outputs": [
    {
     "name": "stderr",
     "output_type": "stream",
     "text": [
      "/Users/eddysmac/opt/anaconda3/envs/py38/lib/python3.8/site-packages/gensim/similarities/__init__.py:15: UserWarning: The gensim.similarities.levenshtein submodule is disabled, because the optional Levenshtein package <https://pypi.org/project/python-Levenshtein/> is unavailable. Install Levenhstein (e.g. `pip install python-Levenshtein`) to suppress this warning.\n",
      "  warnings.warn(msg)\n"
     ]
    }
   ],
   "source": [
    "# Basic Tools\n",
    "import pandas as pd\n",
    "import numpy as np\n",
    "import itertools\n",
    "from collections import Counter\n",
    "import numpy as np\n",
    "from matplotlib import pyplot as plt\n",
    "\n",
    "# For text preprocessing\n",
    "import re\n",
    "import string\n",
    "import nltk\n",
    "from nltk.corpus import stopwords\n",
    "from nltk.tokenize import word_tokenize\n",
    "from nltk.stem import WordNetLemmatizer\n",
    "from nltk.stem.lancaster import LancasterStemmer  \n",
    "from nltk.corpus import words, wordnet\n",
    "from nltk.text import TextCollection\n",
    "from copy import deepcopy\n",
    "from bs4 import BeautifulSoup\n",
    "import urllib3\n",
    "import contractions\n",
    "from nltk.stem.snowball import SnowballStemmer\n",
    "\n",
    "# Sklearn Tools\n",
    "from sklearn.feature_extraction.text import TfidfTransformer, CountVectorizer, TfidfVectorizer\n",
    "from gensim.models import Word2Vec\n",
    "from sklearn import svm\n",
    "from sklearn.metrics import classification_report , accuracy_score\n",
    "from sklearn.decomposition import PCA\n",
    "\n",
    "# Tensorflow framework\n",
    "import tensorflow as tf\n",
    "from tensorflow.keras import Sequential,optimizers\n",
    "from tensorflow.keras.layers import Dense,BatchNormalization,Dropout,Activation\n",
    "from tensorflow.keras.models import load_model\n",
    "from tensorflow.keras.callbacks import ReduceLROnPlateau, EarlyStopping\n",
    "from tensorflow.keras import backend as K\n",
    "from tensorflow.keras import regularizers\n",
    "import tensorflow_hub as hub\n",
    "\n",
    "# self-desined tools\n",
    "from QingHao import SDcorpus"
   ]
  },
  {
   "cell_type": "code",
   "execution_count": 2,
   "id": "f51035c1",
   "metadata": {},
   "outputs": [
    {
     "data": {
      "text/html": [
       "<div>\n",
       "<style scoped>\n",
       "    .dataframe tbody tr th:only-of-type {\n",
       "        vertical-align: middle;\n",
       "    }\n",
       "\n",
       "    .dataframe tbody tr th {\n",
       "        vertical-align: top;\n",
       "    }\n",
       "\n",
       "    .dataframe thead th {\n",
       "        text-align: right;\n",
       "    }\n",
       "</style>\n",
       "<table border=\"1\" class=\"dataframe\">\n",
       "  <thead>\n",
       "    <tr style=\"text-align: right;\">\n",
       "      <th></th>\n",
       "      <th>review</th>\n",
       "      <th>sentiment</th>\n",
       "    </tr>\n",
       "  </thead>\n",
       "  <tbody>\n",
       "    <tr>\n",
       "      <th>0</th>\n",
       "      <td>One of the other reviewers has mentioned that ...</td>\n",
       "      <td>positive</td>\n",
       "    </tr>\n",
       "    <tr>\n",
       "      <th>1</th>\n",
       "      <td>A wonderful little production. &lt;br /&gt;&lt;br /&gt;The...</td>\n",
       "      <td>positive</td>\n",
       "    </tr>\n",
       "    <tr>\n",
       "      <th>2</th>\n",
       "      <td>I thought this was a wonderful way to spend ti...</td>\n",
       "      <td>positive</td>\n",
       "    </tr>\n",
       "    <tr>\n",
       "      <th>3</th>\n",
       "      <td>Basically there's a family where a little boy ...</td>\n",
       "      <td>negative</td>\n",
       "    </tr>\n",
       "    <tr>\n",
       "      <th>4</th>\n",
       "      <td>Petter Mattei's \"Love in the Time of Money\" is...</td>\n",
       "      <td>positive</td>\n",
       "    </tr>\n",
       "  </tbody>\n",
       "</table>\n",
       "</div>"
      ],
      "text/plain": [
       "                                              review sentiment\n",
       "0  One of the other reviewers has mentioned that ...  positive\n",
       "1  A wonderful little production. <br /><br />The...  positive\n",
       "2  I thought this was a wonderful way to spend ti...  positive\n",
       "3  Basically there's a family where a little boy ...  negative\n",
       "4  Petter Mattei's \"Love in the Time of Money\" is...  positive"
      ]
     },
     "execution_count": 2,
     "metadata": {},
     "output_type": "execute_result"
    }
   ],
   "source": [
    "data = pd.read_csv(\"movie_data.csv\")\n",
    "data.head()"
   ]
  },
  {
   "cell_type": "code",
   "execution_count": 3,
   "id": "b187234f",
   "metadata": {},
   "outputs": [],
   "source": [
    "def binary_transform(sentiment):\n",
    "    if sentiment == \"positive\":\n",
    "        return 1\n",
    "    return 0"
   ]
  },
  {
   "cell_type": "code",
   "execution_count": 4,
   "id": "d2396af7",
   "metadata": {},
   "outputs": [],
   "source": [
    "y = data[\"sentiment\"].apply(binary_transform).values\n",
    "y_train = y[15000:]\n",
    "y_test = y[:10000]\n",
    "y_val = y[10000:15000]"
   ]
  },
  {
   "cell_type": "code",
   "execution_count": 5,
   "id": "83ee694c",
   "metadata": {},
   "outputs": [],
   "source": [
    "raw_train = data[\"review\"][15000:]\n",
    "raw_test = data[\"review\"][:10000]\n",
    "raw_val = data[\"review\"][10000:15000]"
   ]
  },
  {
   "cell_type": "code",
   "execution_count": 6,
   "id": "7905c3d6",
   "metadata": {},
   "outputs": [],
   "source": [
    "vectorizer = TfidfVectorizer(min_df=5, max_features=50000, stop_words=None)\n",
    "vectorizer.fit(raw_train)\n",
    "train_feature = vectorizer.transform(raw_train).toarray()\n",
    "test_feature = vectorizer.transform(raw_test).toarray()\n",
    "val_feature = vectorizer.transform(raw_val).toarray()"
   ]
  },
  {
   "cell_type": "code",
   "execution_count": 24,
   "id": "5560694b",
   "metadata": {},
   "outputs": [],
   "source": [
    "model = Sequential([\n",
    "            Dropout(rate=0.2, input_shape=train_feature.shape[1:]),\n",
    "            #Dense(16, input_dim=train_feature.shape[1], activation=\"relu\"),\n",
    "            #Dense(64, activation=\"relu\"),\n",
    "            Dense(32, activation=\"relu\"),\n",
    "            #Dense(64, activation=\"relu\", kernel_regularizer=regularizers.l2(0.0001)),\n",
    "            Dense(1, activation=\"sigmoid\")\n",
    "        ])\n",
    "\n",
    "model.compile(\n",
    "            optimizer=\"Adam\",\n",
    "            loss=\"binary_crossentropy\",\n",
    "            metrics=[\"binary_accuracy\"]\n",
    "        )\n",
    "\n",
    "reduce_lr = ReduceLROnPlateau(monitor='val_loss', factor=0.2,\n",
    "                              patience=3, min_lr=0.001)\n",
    "\n",
    "es = EarlyStopping(monitor='val_loss',\n",
    "                   min_delta=0, patience=2, verbose=0, mode='auto',\n",
    "                   baseline=None, restore_best_weights=False)"
   ]
  },
  {
   "cell_type": "code",
   "execution_count": 25,
   "id": "7c027f42",
   "metadata": {},
   "outputs": [
    {
     "name": "stdout",
     "output_type": "stream",
     "text": [
      "1094/1094 [==============================] - 11s 9ms/step - loss: 0.4771 - binary_accuracy: 0.8113 - val_loss: 0.2502 - val_binary_accuracy: 0.9026\n"
     ]
    }
   ],
   "source": [
    "history = model.fit(\n",
    "            x=train_feature,\n",
    "            y=y_train,\n",
    "            batch_size=32,\n",
    "            epochs=1,\n",
    "            verbose=1,\n",
    "            validation_data=(val_feature, y_val),\n",
    "            callbacks=[reduce_lr, es],\n",
    "            shuffle=True\n",
    "        )"
   ]
  },
  {
   "cell_type": "code",
   "execution_count": 9,
   "id": "123ffa67",
   "metadata": {},
   "outputs": [
    {
     "name": "stdout",
     "output_type": "stream",
     "text": [
      "Model: \"sequential\"\n",
      "_________________________________________________________________\n",
      "Layer (type)                 Output Shape              Param #   \n",
      "=================================================================\n",
      "dropout (Dropout)            (None, 31690)             0         \n",
      "_________________________________________________________________\n",
      "dense (Dense)                (None, 64)                2028224   \n",
      "_________________________________________________________________\n",
      "dense_1 (Dense)              (None, 128)               8320      \n",
      "_________________________________________________________________\n",
      "dense_2 (Dense)              (None, 1)                 129       \n",
      "=================================================================\n",
      "Total params: 2,036,673\n",
      "Trainable params: 2,036,673\n",
      "Non-trainable params: 0\n",
      "_________________________________________________________________\n"
     ]
    }
   ],
   "source": [
    "model.summary()"
   ]
  },
  {
   "cell_type": "code",
   "execution_count": 33,
   "id": "684dd014",
   "metadata": {},
   "outputs": [
    {
     "name": "stdout",
     "output_type": "stream",
     "text": [
      "threshold =  0.4\n",
      "Error Count: 550\n",
      "Accuracy: 89.0%\n",
      "threshold =  0.43000000000000005\n",
      "Error Count: 531\n",
      "Accuracy: 89.38000000000001%\n",
      "threshold =  0.4600000000000001\n",
      "Error Count: 510\n",
      "Accuracy: 89.8%\n",
      "threshold =  0.4900000000000001\n",
      "Error Count: 487\n",
      "Accuracy: 90.25999999999999%\n",
      "threshold =  0.5200000000000001\n",
      "Error Count: 483\n",
      "Accuracy: 90.34%\n",
      "threshold =  0.5500000000000002\n",
      "Error Count: 471\n",
      "Accuracy: 90.58%\n",
      "threshold =  0.5800000000000002\n",
      "Error Count: 468\n",
      "Accuracy: 90.64%\n",
      "threshold =  0.6100000000000002\n",
      "Error Count: 487\n",
      "Accuracy: 90.25999999999999%\n",
      "threshold =  0.6400000000000002\n",
      "Error Count: 502\n",
      "Accuracy: 89.96%\n",
      "threshold =  0.6700000000000003\n",
      "Error Count: 506\n",
      "Accuracy: 89.88000000000001%\n"
     ]
    }
   ],
   "source": [
    "prediction = model.predict(val_feature)\n",
    "threshold = 0.4\n",
    "prediction_0 = [None]*len(prediction)\n",
    "while threshold < 0.7:\n",
    "    for i in range(len(prediction)):\n",
    "        if prediction[i] <= threshold:\n",
    "            prediction_0[i] = 0\n",
    "        else:\n",
    "            prediction_0[i] = 1\n",
    "        \n",
    "    error_count = 0 \n",
    "    for i in range(len(prediction_0)):\n",
    "        if prediction_0[i] != y_val[i]:\n",
    "            error_count += 1\n",
    "    \n",
    "    print(\"threshold = \", threshold)\n",
    "    print(\"Error Count: {}\".format(error_count))\n",
    "    print(\"Accuracy: {}%\".format(((len(y_val)-error_count)/len(y_val))*100))\n",
    "    \n",
    "    threshold += 0.03\n",
    "    "
   ]
  },
  {
   "cell_type": "code",
   "execution_count": 32,
   "id": "a67741ec",
   "metadata": {},
   "outputs": [
    {
     "name": "stdout",
     "output_type": "stream",
     "text": [
      "Error Count: 954\n",
      "Accuracy: 90.46%\n"
     ]
    }
   ],
   "source": [
    "prediction = model.predict(test_feature)\n",
    "        \n",
    "for i in range(len(prediction)):\n",
    "    if prediction[i] <= 0.58:\n",
    "        prediction[i] = 0\n",
    "    else:\n",
    "        prediction[i] = 1\n",
    "        \n",
    "error_count = 0 \n",
    "for i in range(len(prediction)):\n",
    "    if prediction[i] != y_test[i]:\n",
    "        error_count += 1\n",
    "\n",
    "print(\"Error Count: {}\".format(error_count))\n",
    "print(\"Accuracy: {}%\".format(((len(y_test)-error_count)/len(y_test))*100))"
   ]
  },
  {
   "cell_type": "code",
   "execution_count": null,
   "id": "fbf2c533",
   "metadata": {},
   "outputs": [],
   "source": []
  }
 ],
 "metadata": {
  "kernelspec": {
   "display_name": "Python 3",
   "language": "python",
   "name": "python3"
  },
  "language_info": {
   "codemirror_mode": {
    "name": "ipython",
    "version": 3
   },
   "file_extension": ".py",
   "mimetype": "text/x-python",
   "name": "python",
   "nbconvert_exporter": "python",
   "pygments_lexer": "ipython3",
   "version": "3.8.8"
  }
 },
 "nbformat": 4,
 "nbformat_minor": 5
}
