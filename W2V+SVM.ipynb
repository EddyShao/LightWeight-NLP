{
 "cells": [
  {
   "cell_type": "code",
   "execution_count": 2,
   "id": "3352b98f",
   "metadata": {},
   "outputs": [],
   "source": [
    "import pandas as pd\n",
    "import itertools\n",
    "from collections import Counter\n",
    "import numpy as np\n",
    "from matplotlib import pyplot as plt\n",
    "import nltk\n",
    "from sklearn.preprocessing import OneHotEncoder\n",
    "from sklearn.preprocessing import LabelEncoder\n",
    "from nltk.corpus import stopwords\n",
    "import re\n",
    "import string\n",
    "from nltk.tokenize import word_tokenize\n",
    "from nltk.stem import WordNetLemmatizer\n",
    "from nltk.stem.lancaster import LancasterStemmer  \n",
    "from nltk.corpus import words\n",
    "from copy import deepcopy\n",
    "from gensim.models import Word2Vec\n",
    "from sklearn import svm\n"
   ]
  },
  {
   "cell_type": "code",
   "execution_count": 3,
   "id": "306eb585",
   "metadata": {},
   "outputs": [],
   "source": [
    "def preproc_text(text):\n",
    "    text = re.sub(r\"\\d+\", \"\", text.lower())\n",
    "    for i in string.punctuation:\n",
    "        text = text.replace(i,\"\")\n",
    "    stop_words = set(stopwords.words(\"english\"))\n",
    "    tokens = word_tokenize(text)\n",
    "    sample = [i for i in tokens if not i in stop_words]\n",
    "    # lancaster_\n",
    "    stemmer = LancasterStemmer() \n",
    "    lemmatizer = WordNetLemmatizer()\n",
    "\n",
    "    \n",
    "    \n",
    "    return [lemmatizer.lemmatize(word) for word in sample]"
   ]
  },
  {
   "cell_type": "code",
   "execution_count": 4,
   "id": "c23b2185",
   "metadata": {
    "pycharm": {
     "is_executing": true
    }
   },
   "outputs": [],
   "source": [
    "data = pd.read_csv(\"movie_data.csv\")\n",
    "data.head()\n",
    "review = data[\"review\"] # create a data frame with only data \n",
    "review = review.apply(preproc_text)"
   ]
  },
  {
   "cell_type": "code",
   "execution_count": 5,
   "id": "fdce1d2f",
   "metadata": {
    "pycharm": {
     "is_executing": true
    }
   },
   "outputs": [],
   "source": [
    "model = Word2Vec(review[:40000], vector_size=500, window=10, min_count=10)"
   ]
  },
  {
   "cell_type": "code",
   "execution_count": 6,
   "id": "51931102",
   "metadata": {
    "pycharm": {
     "is_executing": true
    }
   },
   "outputs": [],
   "source": [
    "dic = set(model.wv.index_to_key)\n",
    "def generate_vec(wordlist):\n",
    "    feature = np.zeros(500)\n",
    "    count = 0\n",
    "    for word in wordlist:\n",
    "        if word in dic:\n",
    "            feature = np.add(model.wv[word], feature)\n",
    "            count += 1\n",
    "    \n",
    "    return list(feature/count)\n",
    "            "
   ]
  },
  {
   "cell_type": "code",
   "execution_count": 27,
   "id": "07a6f6f1",
   "metadata": {
    "pycharm": {
     "is_executing": true
    }
   },
   "outputs": [],
   "source": [
    "def split_train(original_train_data, size=10000):\n",
    "    return original_train_data[:size], original_train_data[40000:40000+2000]\n",
    "\n",
    "def binary_transform(sentiment):\n",
    "    if sentiment == \"positive\":\n",
    "        return 1\n",
    "    return 0"
   ]
  },
  {
   "cell_type": "code",
   "execution_count": 37,
   "id": "4da6c95a",
   "metadata": {},
   "outputs": [],
   "source": [
    "label = data[\"sentiment\"].apply(binary_transform)"
   ]
  },
  {
   "cell_type": "code",
   "execution_count": 38,
   "id": "5ca16be7",
   "metadata": {
    "pycharm": {
     "is_executing": true
    }
   },
   "outputs": [],
   "source": [
    "train_X, val_X = split_train(review)\n",
    "train_y, val_y = split_train(label)"
   ]
  },
  {
   "cell_type": "code",
   "execution_count": 39,
   "id": "5b7a817e",
   "metadata": {
    "pycharm": {
     "is_executing": true
    }
   },
   "outputs": [],
   "source": [
    "train_X = train_X.apply(generate_vec)"
   ]
  },
  {
   "cell_type": "code",
   "execution_count": 40,
   "id": "7b9275ce",
   "metadata": {
    "pycharm": {
     "is_executing": true
    }
   },
   "outputs": [],
   "source": [
    "X = np.zeros(10000*500).reshape(10000,500)\n",
    "Y = np.array(train_y)\n",
    "for i in range(5000):\n",
    "    X[i] = train_X[i]"
   ]
  },
  {
   "cell_type": "code",
   "execution_count": 47,
   "id": "02d930ee",
   "metadata": {
    "pycharm": {
     "is_executing": true
    }
   },
   "outputs": [
    {
     "data": {
      "text/plain": [
       "SVC()"
      ]
     },
     "execution_count": 47,
     "metadata": {},
     "output_type": "execute_result"
    }
   ],
   "source": [
    "clf = svm.SVC()\n",
    "clf.fit(X, Y)"
   ]
  },
  {
   "cell_type": "code",
   "execution_count": 42,
   "id": "4d852fba",
   "metadata": {
    "pycharm": {
     "is_executing": true
    }
   },
   "outputs": [],
   "source": [
    "VX = val_X.apply(generate_vec).values\n",
    "Vy = val_y.values"
   ]
  },
  {
   "cell_type": "code",
   "execution_count": 50,
   "id": "5a56fbbd",
   "metadata": {
    "pycharm": {
     "is_executing": true
    }
   },
   "outputs": [
    {
     "name": "stdout",
     "output_type": "stream",
     "text": [
      "The accuracy is 85.6 %\n"
     ]
    }
   ],
   "source": [
    "error = 0\n",
    "for i in range(len(Vy)):\n",
    "    if clf.predict([VX[i]]) != Vy[i]:\n",
    "        error += 1\n",
    "print(\"The accuracy is\", (1 - error/len(Vy))*100, \"%\")"
   ]
  }
 ],
 "metadata": {
  "kernelspec": {
   "display_name": "Python [conda env:py38] *",
   "language": "python",
   "name": "conda-env-py38-py"
  },
  "language_info": {
   "codemirror_mode": {
    "name": "ipython",
    "version": 3
   },
   "file_extension": ".py",
   "mimetype": "text/x-python",
   "name": "python",
   "nbconvert_exporter": "python",
   "pygments_lexer": "ipython3",
   "version": "3.8.8"
  }
 },
 "nbformat": 4,
 "nbformat_minor": 5
}
