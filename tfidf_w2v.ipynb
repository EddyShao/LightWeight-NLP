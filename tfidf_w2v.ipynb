{
 "cells": [
  {
   "cell_type": "code",
   "execution_count": 20,
   "id": "8f03a4d7",
   "metadata": {},
   "outputs": [],
   "source": [
    "import pandas as pd\n",
    "import numpy as np\n",
    "import itertools\n",
    "from collections import Counter\n",
    "import numpy as np\n",
    "from matplotlib import pyplot as plt\n",
    "import nltk\n",
    "from sklearn.preprocessing import OneHotEncoder\n",
    "from sklearn.preprocessing import LabelEncoder\n",
    "from nltk.corpus import stopwords\n",
    "import re\n",
    "import string\n",
    "from nltk.tokenize import word_tokenize\n",
    "from nltk.stem import WordNetLemmatizer\n",
    "from nltk.stem.lancaster import LancasterStemmer  \n",
    "from nltk.corpus import words\n",
    "from copy import deepcopy\n",
    "from sklearn.feature_extraction.text import TfidfTransformer, CountVectorizer, TfidfVectorizer\n",
    "from gensim.models import Word2Vec\n",
    "from sklearn import svm"
   ]
  },
  {
   "cell_type": "code",
   "execution_count": 2,
   "id": "4ac04a65",
   "metadata": {},
   "outputs": [
    {
     "data": {
      "text/html": [
       "<div>\n",
       "<style scoped>\n",
       "    .dataframe tbody tr th:only-of-type {\n",
       "        vertical-align: middle;\n",
       "    }\n",
       "\n",
       "    .dataframe tbody tr th {\n",
       "        vertical-align: top;\n",
       "    }\n",
       "\n",
       "    .dataframe thead th {\n",
       "        text-align: right;\n",
       "    }\n",
       "</style>\n",
       "<table border=\"1\" class=\"dataframe\">\n",
       "  <thead>\n",
       "    <tr style=\"text-align: right;\">\n",
       "      <th></th>\n",
       "      <th>review</th>\n",
       "      <th>sentiment</th>\n",
       "    </tr>\n",
       "  </thead>\n",
       "  <tbody>\n",
       "    <tr>\n",
       "      <th>0</th>\n",
       "      <td>One of the other reviewers has mentioned that ...</td>\n",
       "      <td>positive</td>\n",
       "    </tr>\n",
       "    <tr>\n",
       "      <th>1</th>\n",
       "      <td>A wonderful little production. &lt;br /&gt;&lt;br /&gt;The...</td>\n",
       "      <td>positive</td>\n",
       "    </tr>\n",
       "    <tr>\n",
       "      <th>2</th>\n",
       "      <td>I thought this was a wonderful way to spend ti...</td>\n",
       "      <td>positive</td>\n",
       "    </tr>\n",
       "    <tr>\n",
       "      <th>3</th>\n",
       "      <td>Basically there's a family where a little boy ...</td>\n",
       "      <td>negative</td>\n",
       "    </tr>\n",
       "    <tr>\n",
       "      <th>4</th>\n",
       "      <td>Petter Mattei's \"Love in the Time of Money\" is...</td>\n",
       "      <td>positive</td>\n",
       "    </tr>\n",
       "  </tbody>\n",
       "</table>\n",
       "</div>"
      ],
      "text/plain": [
       "                                              review sentiment\n",
       "0  One of the other reviewers has mentioned that ...  positive\n",
       "1  A wonderful little production. <br /><br />The...  positive\n",
       "2  I thought this was a wonderful way to spend ti...  positive\n",
       "3  Basically there's a family where a little boy ...  negative\n",
       "4  Petter Mattei's \"Love in the Time of Money\" is...  positive"
      ]
     },
     "execution_count": 2,
     "metadata": {},
     "output_type": "execute_result"
    }
   ],
   "source": [
    "data = pd.read_csv(\"movie_data.csv\")\n",
    "data.head()"
   ]
  },
  {
   "cell_type": "code",
   "execution_count": 3,
   "id": "7638df0c",
   "metadata": {},
   "outputs": [],
   "source": [
    "def preproc_text(text, stemmer=\"l\"):\n",
    "    text = re.sub(r\"\\d+\", \" \", text.lower())\n",
    "    for i in string.punctuation:\n",
    "        text = text.replace(i,\" \")\n",
    "    stop_words = set(stopwords.words(\"english\"))\n",
    "    tokens = word_tokenize(text)\n",
    "    words = [i for i in tokens if not i in stop_words]\n",
    "    \n",
    "    if not stemmer:\n",
    "        # return \" \".join(words)\n",
    "        wordlist = words\n",
    "    if stemmer == \"l\": # use lancasterstemmer\n",
    "        stemmer = LancasterStemmer() \n",
    "        wordlist = [stemmer.stem(word) for word in words]\n",
    "    elif stemmer == \"w\":\n",
    "        stemmer = WordNetLemmatizer()\n",
    "        wordlist = [stemmer.lemmatize(word) for word in words]\n",
    "    \n",
    "    return \" \".join(wordlist) \n",
    "    "
   ]
  },
  {
   "cell_type": "code",
   "execution_count": 4,
   "id": "646ba479",
   "metadata": {},
   "outputs": [],
   "source": [
    "corpus = data[\"review\"]\n",
    "corpus = corpus.apply(preproc_text, None)"
   ]
  },
  {
   "cell_type": "code",
   "execution_count": 5,
   "id": "91c96f10",
   "metadata": {},
   "outputs": [],
   "source": [
    "vectorizer = TfidfVectorizer()\n",
    "tfidf = vectorizer.fit_transform(corpus[:])"
   ]
  },
  {
   "cell_type": "code",
   "execution_count": 6,
   "id": "b4c6f526",
   "metadata": {},
   "outputs": [],
   "source": [
    "weights = tfidf.toarray() # the TFIDF array we generate\n",
    "vocab = vectorizer.get_feature_names() # dictionary "
   ]
  },
  {
   "cell_type": "code",
   "execution_count": 7,
   "id": "b9e70bfc",
   "metadata": {},
   "outputs": [],
   "source": [
    "def spliter(text):\n",
    "    return text.split(\" \")"
   ]
  },
  {
   "cell_type": "code",
   "execution_count": 8,
   "id": "f7df4606",
   "metadata": {},
   "outputs": [],
   "source": [
    "wordlist = corpus.apply(spliter)\n",
    "train_X, val_X = wordlist[:5000], wordlist[5000:6000]"
   ]
  },
  {
   "cell_type": "code",
   "execution_count": 9,
   "id": "cb185f95",
   "metadata": {},
   "outputs": [],
   "source": [
    "model = Word2Vec(train_X, size=500, window=10, min_count=10)"
   ]
  },
  {
   "cell_type": "code",
   "execution_count": 10,
   "id": "813f529c",
   "metadata": {},
   "outputs": [],
   "source": [
    "def generate_vec(wordlist, weight):\n",
    "    dic = set(model.wv.index2word)\n",
    "    feature = np.zeros(500)\n",
    "    for i in range(len(vocab)):\n",
    "        if vocab[i] in dic:\n",
    "            feature += weight[i] * model.wv[vocab[i]]\n",
    "    return feature"
   ]
  },
  {
   "cell_type": "code",
   "execution_count": 14,
   "id": "3f39b91d",
   "metadata": {},
   "outputs": [],
   "source": [
    "feature_vector = np.zeros(5000*500).reshape(5000, 500)\n",
    "for i in range(5000):\n",
    "    feature_vector[i] = generate_vec(wordlist[i], weights[i])\n"
   ]
  },
  {
   "cell_type": "code",
   "execution_count": 18,
   "id": "999449f3",
   "metadata": {},
   "outputs": [],
   "source": [
    "def binary_transform(sentiment):\n",
    "    if sentiment == \"positive\":\n",
    "        return 1\n",
    "    return 0\n",
    "\n",
    "label = data[\"sentiment\"].apply(binary_transform)\n",
    "train_y = label[:5000]"
   ]
  },
  {
   "cell_type": "code",
   "execution_count": 21,
   "id": "b8affb44",
   "metadata": {},
   "outputs": [
    {
     "data": {
      "text/plain": [
       "SVC(C=2)"
      ]
     },
     "execution_count": 21,
     "metadata": {},
     "output_type": "execute_result"
    }
   ],
   "source": [
    "clf = svm.SVC(C=2)\n",
    "clf.fit(feature_vector, train_y)\n"
   ]
  },
  {
   "cell_type": "code",
   "execution_count": 32,
   "id": "095f188d",
   "metadata": {},
   "outputs": [
    {
     "data": {
      "text/plain": [
       "127"
      ]
     },
     "execution_count": 32,
     "metadata": {},
     "output_type": "execute_result"
    }
   ],
   "source": [
    "val_vector = np.zeros(1000*500).reshape(1000, 500)\n",
    "for i in range(5000, 6000):\n",
    "    val_vector[i-5000] = generate_vec(wordlist[i], weights[i])\n",
    "\n",
    "\n",
    "label_val = label[5000:6000].values\n",
    "\n",
    "count = 0\n",
    "for i in range(1000):\n",
    "    if clf.predict([val_vector[i]])[0] != label_val[i]:\n",
    "        count += 1\n",
    "\n",
    "\n",
    "count\n",
    "    \n",
    "    "
   ]
  }
 ],
 "metadata": {
  "kernelspec": {
   "display_name": "Python [conda env:py38] *",
   "language": "python",
   "name": "conda-env-py38-py"
  },
  "language_info": {
   "codemirror_mode": {
    "name": "ipython",
    "version": 3
   },
   "file_extension": ".py",
   "mimetype": "text/x-python",
   "name": "python",
   "nbconvert_exporter": "python",
   "pygments_lexer": "ipython3",
   "version": "3.8.8"
  }
 },
 "nbformat": 4,
 "nbformat_minor": 5
}
